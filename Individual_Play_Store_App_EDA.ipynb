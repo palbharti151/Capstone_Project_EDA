{
  "nbformat": 4,
  "nbformat_minor": 0,
  "metadata": {
    "colab": {
      "private_outputs": true,
      "provenance": [],
      "collapsed_sections": [
        "vncDsAP0Gaoa",
        "FJNUwmbgGyua",
        "w6K7xa23Elo4",
        "yQaldy8SH6Dl",
        "PH-0ReGfmX4f",
        "mDgbUHAGgjLW",
        "O_i_v8NEhb9l",
        "HhfV-JJviCcP",
        "Y3lxredqlCYt",
        "3RnN4peoiCZX",
        "x71ZqKXriCWQ",
        "7hBIi_osiCS2",
        "JlHwYmJAmNHm",
        "35m5QtbWiB9F",
        "PoPl-ycgm1ru",
        "H0kj-8xxnORC",
        "nA9Y7ga8ng1Z",
        "PBTbrJXOngz2",
        "u3PMJOP6ngxN",
        "dauF4eBmngu3",
        "bKJF3rekwFvQ",
        "MSa1f5Uengrz",
        "GF8Ens_Soomf",
        "0wOQAZs5pc--",
        "K5QZ13OEpz2H",
        "lQ7QKXXCp7Bj",
        "448CDAPjqfQr",
        "KSlN3yHqYklG",
        "t6dVpIINYklI",
        "ijmpgYnKYklI",
        "-JiQyfWJYklI",
        "EM7whBJCYoAo",
        "fge-S5ZAYoAp",
        "85gYPyotYoAp",
        "RoGjAbkUYoAp",
        "4Of9eVA-YrdM",
        "iky9q4vBYrdO",
        "F6T5p64dYrdO",
        "y-Ehk30pYrdP",
        "bamQiAODYuh1",
        "QHF8YVU7Yuh3",
        "GwzvFGzlYuh3",
        "qYpmQ266Yuh3",
        "OH-pJp9IphqM",
        "bbFf2-_FphqN",
        "_ouA3fa0phqN",
        "Seke61FWphqN",
        "PIIx-8_IphqN",
        "t27r6nlMphqO",
        "r2jJGEOYphqO",
        "b0JNsNcRphqO",
        "BZR9WyysphqO",
        "jj7wYXLtphqO",
        "eZrbJ2SmphqO",
        "rFu4xreNphqO",
        "YJ55k-q6phqO",
        "gCFgpxoyphqP",
        "OVtJsKN_phqQ",
        "lssrdh5qphqQ",
        "U2RJ9gkRphqQ",
        "1M8mcRywphqQ",
        "tgIPom80phqQ",
        "JMzcOPDDphqR",
        "x-EpHcCOp1ci",
        "X_VqEhTip1ck",
        "8zGJKyg5p1ck",
        "PVzmfK_Ep1ck",
        "n3dbpmDWp1ck",
        "ylSl6qgtp1ck",
        "ZWILFDl5p1ck",
        "M7G43BXep1ck",
        "Ag9LCva-p1cl",
        "E6MkPsBcp1cl",
        "2cELzS2fp1cl",
        "3MPXvC8up1cl",
        "NC_X3p0fY2L0",
        "UV0SzAkaZNRQ",
        "YPEH6qLeZNRQ",
        "q29F0dvdveiT",
        "EXh0U9oCveiU",
        "22aHeOlLveiV",
        "JcMwzZxoAimU",
        "8G2x9gOozGDZ",
        "gCX9965dhzqZ",
        "gIfDvo9L0UH2"
      ],
      "include_colab_link": true
    },
    "kernelspec": {
      "name": "python3",
      "display_name": "Python 3"
    },
    "language_info": {
      "name": "python"
    }
  },
  "cells": [
    {
      "cell_type": "markdown",
      "metadata": {
        "id": "view-in-github",
        "colab_type": "text"
      },
      "source": [
        "<a href=\"https://colab.research.google.com/github/palbharti151/Capstone_Project_EDA/blob/main/Individual_Play_Store_App_EDA.ipynb\" target=\"_parent\"><img src=\"https://colab.research.google.com/assets/colab-badge.svg\" alt=\"Open In Colab\"/></a>"
      ]
    },
    {
      "cell_type": "markdown",
      "source": [
        "# **Project Name**    - **Play Store App Review Analysis**\n",
        "\n"
      ],
      "metadata": {
        "id": "vncDsAP0Gaoa"
      }
    },
    {
      "cell_type": "markdown",
      "source": [
        "##### **Project Type**    - EDA\n",
        "##### **Contribution**    - Individual\n",
        " **Name - Pal Bharti**\n"
      ],
      "metadata": {
        "id": "beRrZCGUAJYm"
      }
    },
    {
      "cell_type": "markdown",
      "source": [
        "# **Project Summary -**\n",
        "\n",
        "The Play Store App EDA (Exploratory Data Analysis) project is an in-depth analysis of the Google Play Store app dataset. The primary objective of this project is to gain insights into the various aspects of apps available on the Play Store and understand the factors that contribute to their popularity and success.\n",
        "\n",
        "\n",
        "The project begins with data collection, where a comprehensive dataset containing information about different apps, such as their categories, ratings, reviews, sizes, and download counts, is gathered. This dataset serves as the foundation for the subsequent analysis.\n",
        "\n",
        "\n",
        "\n",
        "During the exploratory data analysis phase, various statistical and visual techniques are employed to understand the distribution, trends, and patterns within the dataset. Key metrics such as the most popular app categories, average ratings, and the relationship between app size and download counts are examined. Moreover, the project aims to uncover any outliers, missing values, or data quality issues that may impact the analysis.\n",
        "\n",
        "\n",
        "\n",
        "Overall, the Play Store App EDA project aims to provide valuable insights into the Play Store app ecosystem. The findings can be utilized by app developers, marketers, and stakeholders to make informed decisions regarding app development, marketing strategies, and monetization.\n",
        "\n",
        "\n",
        "\n",
        "\n"
      ],
      "metadata": {
        "id": "FJNUwmbgGyua"
      }
    },
    {
      "cell_type": "markdown",
      "source": [
        "# **GitHub Link -**"
      ],
      "metadata": {
        "id": "w6K7xa23Elo4"
      }
    },
    {
      "cell_type": "markdown",
      "source": [
        "https://github.com/palbharti151/Capstone_Project_EDA/blob/72cedc50bc1971703fbf8f7f94836fe57d020d1e/Individual_Play_Store_App_EDA.ipynb"
      ],
      "metadata": {
        "id": "h1o69JH3Eqqn"
      }
    },
    {
      "cell_type": "markdown",
      "source": [
        "# **Problem Statement**\n"
      ],
      "metadata": {
        "id": "yQaldy8SH6Dl"
      }
    },
    {
      "cell_type": "markdown",
      "source": [
        "The Play Store App EDA (Exploratory Data Analysis) project addresses the need for comprehensive insights into the Google Play Store app ecosystem. The availability of millions of apps on the Play Store presents app developers, marketers, and stakeholders with numerous challenges when it comes to understanding user preferences, identifying successful app features, and making data-driven decisions.\n",
        "\n",
        "The problem this project aims to solve is the lack of a comprehensive analysis of the Play Store app dataset. While there is abundant data available, there is a need to extract meaningful insights and patterns from it. The project focuses on addressing the following key questions:\n",
        "\n",
        "1. App Categorization:\n",
        "2. App Ratings and Reviews\n",
        "3. App Size and Download Counts\n",
        "4. App Features and Popularity\n",
        "\n",
        "\n",
        "By addressing these questions through exploratory data analysis, this project aims to provide actionable insights that can guide app developers, marketers, and stakeholders in making informed decisions. The analysis will enable them to understand user preferences, identify successful app attributes, and develop effective strategies for app development, marketing, and monetization.\n"
      ],
      "metadata": {
        "id": "DpeJGUA3kjGy"
      }
    },
    {
      "cell_type": "markdown",
      "source": [
        "#### **Define Your Business Objective?**"
      ],
      "metadata": {
        "id": "PH-0ReGfmX4f"
      }
    },
    {
      "cell_type": "markdown",
      "source": [
        "The business objective of the Play Store App EDA (Exploratory Data Analysis) project is to leverage the insights gained from the analysis to drive informed decision-making and strategic planning within the app development and marketing ecosystem. The primary goals of this project are as follows:\n",
        "\n",
        "* App Development Strategy\n",
        "* Marketing and User Acquisition:\n",
        "* Monetization Strategies\n",
        "* Competitive Analysis\n"
      ],
      "metadata": {
        "id": "PhDvGCAqmjP1"
      }
    },
    {
      "cell_type": "markdown",
      "source": [
        "# **General Guidelines** : -  "
      ],
      "metadata": {
        "id": "mDgbUHAGgjLW"
      }
    },
    {
      "cell_type": "markdown",
      "source": [
        "1.   Well-structured, formatted, and commented code is required. \n",
        "2.   Exception Handling, Production Grade Code & Deployment Ready Code will be a plus. Those students will be awarded some additional credits. \n",
        "     \n",
        "     The additional credits will have advantages over other students during Star Student selection.\n",
        "       \n",
        "             [ Note: - Deployment Ready Code is defined as, the whole .ipynb notebook should be executable in one go\n",
        "                       without a single error logged. ]\n",
        "\n",
        "3.   Each and every logic should have proper comments.\n",
        "4. You may add as many number of charts you want. Make Sure for each and every chart the following format should be answered.\n",
        "        \n",
        "\n",
        "```\n",
        "# Chart visualization code\n",
        "```\n",
        "            \n",
        "\n",
        "*   Why did you pick the specific chart?\n",
        "*   What is/are the insight(s) found from the chart?\n",
        "* Will the gained insights help creating a positive business impact? \n",
        "Are there any insights that lead to negative growth? Justify with specific reason.\n",
        "\n",
        "5. You have to create at least 20 logical & meaningful charts having important insights.\n",
        "\n",
        "\n",
        "[ Hints : - Do the Vizualization in  a structured way while following \"UBM\" Rule. \n",
        "\n",
        "U - Univariate Analysis,\n",
        "\n",
        "B - Bivariate Analysis (Numerical - Categorical, Numerical - Numerical, Categorical - Categorical)\n",
        "\n",
        "M - Multivariate Analysis\n",
        " ]\n",
        "\n",
        "\n",
        "\n"
      ],
      "metadata": {
        "id": "ZrxVaUj-hHfC"
      }
    },
    {
      "cell_type": "markdown",
      "source": [
        "# ***Let's Begin !***"
      ],
      "metadata": {
        "id": "O_i_v8NEhb9l"
      }
    },
    {
      "cell_type": "markdown",
      "source": [
        "## ***1. Know Your Data***"
      ],
      "metadata": {
        "id": "HhfV-JJviCcP"
      }
    },
    {
      "cell_type": "markdown",
      "source": [
        "### Import Libraries"
      ],
      "metadata": {
        "id": "Y3lxredqlCYt"
      }
    },
    {
      "cell_type": "code",
      "source": [
        "# Import Libraries\n",
        "\n",
        "import pandas as pd \n",
        "import numpy as np \n",
        "import matplotlib.pyplot as plt\n",
        "import seaborn as sns  \n",
        "from datetime import datetime\n",
        "\n",
        "# plotly\n",
        "import plotly \n",
        "plotly.offline.init_notebook_mode(connected=True)\n",
        "import plotly.graph_objs as go\n",
        "import warnings\n",
        "\n",
        "#sns.set(font_scale=1.5)\n",
        "warnings.filterwarnings(\"ignore\")"
      ],
      "metadata": {
        "id": "M8Vqi-pPk-HR"
      },
      "execution_count": null,
      "outputs": []
    },
    {
      "cell_type": "markdown",
      "source": [
        "### Dataset Loading"
      ],
      "metadata": {
        "id": "3RnN4peoiCZX"
      }
    },
    {
      "cell_type": "code",
      "source": [
        "# Load Dataset\n",
        "from google.colab import drive\n",
        "drive.mount('/content/drive')\n",
        "\n",
        "# Reading the dataset\n",
        "play_store = pd.read_csv(\"Play Store Data.csv\")\n",
        "user_review = pd.read_csv(\"User Reviews.csv\")\n",
        "\n"
      ],
      "metadata": {
        "id": "4CkvbW_SlZ_R"
      },
      "execution_count": null,
      "outputs": []
    },
    {
      "cell_type": "markdown",
      "source": [
        "### Dataset First View"
      ],
      "metadata": {
        "id": "x71ZqKXriCWQ"
      }
    },
    {
      "cell_type": "code",
      "source": [
        "# Dataset First Look\n",
        "play_store.head()\n"
      ],
      "metadata": {
        "id": "LWNFOSvLl09H"
      },
      "execution_count": null,
      "outputs": []
    },
    {
      "cell_type": "code",
      "source": [
        "# Dataset First Look\n",
        "user_review.head()\n"
      ],
      "metadata": {
        "id": "fL_li3lesuaL"
      },
      "execution_count": null,
      "outputs": []
    },
    {
      "cell_type": "markdown",
      "source": [
        "### Dataset Rows & Columns count"
      ],
      "metadata": {
        "id": "7hBIi_osiCS2"
      }
    },
    {
      "cell_type": "code",
      "source": [
        "# Dataset Rows & Columns count\n",
        "\n",
        "play_store.shape"
      ],
      "metadata": {
        "id": "Kllu7SJgmLij"
      },
      "execution_count": null,
      "outputs": []
    },
    {
      "cell_type": "code",
      "source": [
        "# Dataset Rows & Columns count\n",
        "\n",
        "user_review.shape"
      ],
      "metadata": {
        "id": "oCmzyMRysznw"
      },
      "execution_count": null,
      "outputs": []
    },
    {
      "cell_type": "markdown",
      "source": [
        "### Dataset Information"
      ],
      "metadata": {
        "id": "JlHwYmJAmNHm"
      }
    },
    {
      "cell_type": "code",
      "source": [
        "# Dataset Info\n",
        "play_store.info()"
      ],
      "metadata": {
        "id": "e9hRXRi6meOf"
      },
      "execution_count": null,
      "outputs": []
    },
    {
      "cell_type": "code",
      "source": [
        "# Dataset Info\n",
        "user_review.info()"
      ],
      "metadata": {
        "id": "LRDgU2ias-hV"
      },
      "execution_count": null,
      "outputs": []
    },
    {
      "cell_type": "markdown",
      "source": [
        "#### Duplicate Values"
      ],
      "metadata": {
        "id": "35m5QtbWiB9F"
      }
    },
    {
      "cell_type": "code",
      "source": [
        "# Dataset Duplicate Value Count\n",
        "\n",
        "duplicate_values = play_store['App'].duplicated().sum()\n",
        "duplicate_values\n"
      ],
      "metadata": {
        "id": "1sLdpKYkmox0"
      },
      "execution_count": null,
      "outputs": []
    },
    {
      "cell_type": "code",
      "source": [
        "# Dataset Duplicate Value Count\n",
        "\n",
        "duplicate_values1 = user_review['App'].duplicated().sum()\n",
        "duplicate_values1\n"
      ],
      "metadata": {
        "id": "UgmKi1lttUfQ"
      },
      "execution_count": null,
      "outputs": []
    },
    {
      "cell_type": "markdown",
      "source": [
        "#### Missing Values/Null Values"
      ],
      "metadata": {
        "id": "PoPl-ycgm1ru"
      }
    },
    {
      "cell_type": "code",
      "source": [
        "# Missing Values/Null Values Count\n",
        "\n",
        "print(play_store.isnull().sum())"
      ],
      "metadata": {
        "id": "GgHWkxvamxVg"
      },
      "execution_count": null,
      "outputs": []
    },
    {
      "cell_type": "code",
      "source": [
        "# Missing Values/Null Values Count\n",
        "\n",
        "print(user_review.isnull().sum())"
      ],
      "metadata": {
        "id": "uDumv7Oytar1"
      },
      "execution_count": null,
      "outputs": []
    },
    {
      "cell_type": "code",
      "source": [
        "# Visualizing the missing values\n",
        "\n",
        "# Checking Null Value of play store by plotting Heatmap\n",
        "sns.heatmap(play_store.isnull(), cbar=False, cmap='viridis')"
      ],
      "metadata": {
        "id": "3q5wnI3om9sJ"
      },
      "execution_count": null,
      "outputs": []
    },
    {
      "cell_type": "code",
      "source": [
        "# Visualizing the missing values\n",
        "\n",
        "# Checking Null Value of User Review by plotting Heatmap\n",
        "\n",
        "sns.heatmap(user_review.isnull(), cbar=False, cmap='viridis')"
      ],
      "metadata": {
        "id": "-IsABEmJtip8"
      },
      "execution_count": null,
      "outputs": []
    },
    {
      "cell_type": "markdown",
      "source": [
        "### What did you know about your dataset?"
      ],
      "metadata": {
        "id": "H0kj-8xxnORC"
      }
    },
    {
      "cell_type": "markdown",
      "source": [
        "Play Store app review analysis EDA project, the dataset typically consists of information related to user reviews of various apps available on the Play Store. The dataset may include the following key features:\n",
        "\n",
        "* App Information\n",
        "* User Reviews:\n",
        "* App Version\n",
        "* User Information:\n",
        "* App Metadata\n",
        "\n",
        "These are general features that can be found in a Play Store app review dataset, but the specific attributes and structure may vary depending on the source and scope of the dataset\n",
        "\n",
        "When analyzing this dataset, we can explore various aspects such as the distribution of ratings, sentiment analysis of user reviews, trends in review sentiment over time, most commonly mentioned keywords or topics in reviews, and any correlations between app features (such as app size, category) and user reviews.\n",
        "\n",
        " * Additionaly , Play Store dataset has 10841 rows and 13 columns and  User Reviews dataset has 64295 rows and 5 columns.\n",
        "\n",
        "* In play store dataset total 483 duplicate values and in user review dataset total 33616 values.\n"
      ],
      "metadata": {
        "id": "gfoNAAC-nUe_"
      }
    },
    {
      "cell_type": "markdown",
      "source": [
        "## ***2. Understanding Your Variables***"
      ],
      "metadata": {
        "id": "nA9Y7ga8ng1Z"
      }
    },
    {
      "cell_type": "code",
      "source": [
        "# Dataset Columns\n",
        "play_store.columns"
      ],
      "metadata": {
        "id": "j7xfkqrt5Ag5"
      },
      "execution_count": null,
      "outputs": []
    },
    {
      "cell_type": "code",
      "source": [
        "# Dataset Columns\n",
        "\n",
        "user_review.columns"
      ],
      "metadata": {
        "id": "nOyj-xlxt6Sr"
      },
      "execution_count": null,
      "outputs": []
    },
    {
      "cell_type": "code",
      "source": [
        "# Dataset Describe\n",
        "play_store.describe(include='all')"
      ],
      "metadata": {
        "id": "DnOaZdaE5Q5t"
      },
      "execution_count": null,
      "outputs": []
    },
    {
      "cell_type": "code",
      "source": [
        "# Dataset Describe\n",
        "user_review.describe(include='all')"
      ],
      "metadata": {
        "id": "DxvkAOEtt_eC"
      },
      "execution_count": null,
      "outputs": []
    },
    {
      "cell_type": "markdown",
      "source": [
        "### Variables Description "
      ],
      "metadata": {
        "id": "PBTbrJXOngz2"
      }
    },
    {
      "cell_type": "markdown",
      "source": [
        "**Variables Description of Play Store csv**\n",
        "\n",
        "* App name : The name or title of the app.\n",
        "* Category : The category or genre of the app \n",
        "* Rating : The numerical rating given by the user (usually on a scale of 1 to 5 stars).\n",
        "\n",
        "* Reviews : The text content of the user's review.\n",
        "* Size : The size of the app in terms of storage space.\n",
        "* Installs : The approximate number of times the app has been installed\n",
        "* Type : Types of app like ( Free or Paid )\n",
        "* Price : Price of application.\n",
        "* Content Rating :  The price or pricing model of the app \n",
        "\n",
        "* Genres : Play Store apps belong, providing classification based on functionality or content.\n",
        "\n",
        "* Last Updated : Update info when we updated application.\n",
        "* Current Version : Current version of the app available on the Play Store.\n",
        "* Android Version : Android operating system version required to run the app.\n",
        "\n",
        "\n",
        "**Variables Description of User Review csv**\n",
        "\n",
        "* App: The name or title of the app for which the review was provided.\n",
        "\n",
        "* Sentiment: The sentiment label associated with the review\n",
        "\n",
        "* Translated_Review: The translated version of the user's review text.\n",
        "\n",
        "* Sentiment_Polarity: The polarity or sentiment score of the review, indicating the sentiment as positive, negative, or neutral.\n",
        "\n",
        "* Sentiment_Subjectivity: The subjectivity score of the review, representing the extent to which the review is subjective or objective"
      ],
      "metadata": {
        "id": "VzxruK8wrCEx"
      }
    },
    {
      "cell_type": "markdown",
      "source": [
        "### Check Unique Values for each variable."
      ],
      "metadata": {
        "id": "u3PMJOP6ngxN"
      }
    },
    {
      "cell_type": "code",
      "source": [
        "# Check Unique Values for each variable.\n",
        "for i in play_store.columns.tolist():\n",
        "  print(i,\"is\",play_store[i].nunique())"
      ],
      "metadata": {
        "id": "zms12Yq5n-jE"
      },
      "execution_count": null,
      "outputs": []
    },
    {
      "cell_type": "code",
      "source": [
        "# Check Unique Values for each variable.\n",
        "for i in user_review.columns.tolist():\n",
        "  print(i,\"is\",user_review[i].nunique())"
      ],
      "metadata": {
        "id": "pnc6sqnPwpNS"
      },
      "execution_count": null,
      "outputs": []
    },
    {
      "cell_type": "markdown",
      "source": [
        "## 3. ***Data Wrangling***"
      ],
      "metadata": {
        "id": "dauF4eBmngu3"
      }
    },
    {
      "cell_type": "markdown",
      "source": [
        "### Data Wrangling Code"
      ],
      "metadata": {
        "id": "bKJF3rekwFvQ"
      }
    },
    {
      "cell_type": "code",
      "source": [
        "# Write your code to make your dataset analysis ready.\n",
        "dataset = play_store.copy()\n",
        "dataset1 = user_review.copy()\n"
      ],
      "metadata": {
        "id": "wk-9a2fpoLcV"
      },
      "execution_count": null,
      "outputs": []
    },
    {
      "cell_type": "code",
      "source": [
        "# Fill missing values (Play store dataset)\n",
        "\n",
        "dataset['Rating'].fillna(dataset['Rating'].mean(),inplace = True)\n",
        "dataset['Rating'].isnull().sum()"
      ],
      "metadata": {
        "id": "v5qg3RqXgnCc"
      },
      "execution_count": null,
      "outputs": []
    },
    {
      "cell_type": "code",
      "source": [
        "# Fill missing values (User Revview dataset)\n",
        "\n",
        "dataset1 = dataset1[~dataset1['Sentiment'].isnull()]\n",
        "dataset1.dropna(inplace = True)\n",
        "dataset1.isnull().sum()"
      ],
      "metadata": {
        "id": "4n7y7ccjg6Nn"
      },
      "execution_count": null,
      "outputs": []
    },
    {
      "cell_type": "code",
      "source": [
        "# Drop Null values (Play store dataset)\n",
        "\n",
        "dataset.drop_duplicates(inplace = True)\n",
        "dataset.drop_duplicates(subset='App',inplace = True)\n",
        "dataset.duplicated().value_counts()"
      ],
      "metadata": {
        "id": "64eljfRYhY8D"
      },
      "execution_count": null,
      "outputs": []
    },
    {
      "cell_type": "code",
      "source": [
        "# Drop Null values (User Revview dataset)\n",
        "\n",
        "\n",
        "dataset1.drop_duplicates(inplace = True)\n",
        "dataset1.drop_duplicates(subset='App',inplace = True)\n",
        "dataset1.duplicated().value_counts()"
      ],
      "metadata": {
        "id": "-Yxkve2qhl4t"
      },
      "execution_count": null,
      "outputs": []
    },
    {
      "cell_type": "code",
      "source": [
        "# Drop all null values \n",
        "\n",
        "dataset.dropna(inplace = True)\n",
        "dataset1.dropna(inplace = True)\n",
        "\n"
      ],
      "metadata": {
        "id": "9rMAUxYNhr75"
      },
      "execution_count": null,
      "outputs": []
    },
    {
      "cell_type": "markdown",
      "source": [
        " **1**. **Let's find the top 3 most installed apps**\n",
        "\n",
        "\n",
        "\n"
      ],
      "metadata": {
        "id": "QJ3-Hpsxil-5"
      }
    },
    {
      "cell_type": "code",
      "source": [
        "# Let's find the top 3 most installed apps\n",
        "\n",
        "top_category_app = dataset['Category'].value_counts().head(3)\n",
        "print(\"Top 3 most installed apps:\")\n",
        "print(top_category_app)"
      ],
      "metadata": {
        "id": "RpkIRjwWiBKe"
      },
      "execution_count": null,
      "outputs": []
    },
    {
      "cell_type": "markdown",
      "source": [
        "**2. Identify the % distribution of app types**"
      ],
      "metadata": {
        "id": "6uXeUwbrkt31"
      }
    },
    {
      "cell_type": "code",
      "source": [
        "# Find the % distribution of app types ( Free or Paid)\n",
        "\n",
        "categorydf = play_store.groupby(['Type'])['Type'].count()\n",
        "\n",
        "total_apps = categorydf.sum()\n",
        "free_apps = categorydf['Free']\n",
        "paid_apps = categorydf['Paid']\n",
        "\n",
        "per_free = (free_apps / total_apps) * 100\n",
        "per_paid = (paid_apps / total_apps) * 100\n",
        "\n",
        "print( per_free ,\"% Free apps\")\n",
        "print( per_paid, \"% Paid apps\")\n"
      ],
      "metadata": {
        "id": "tUvGzGRvlB26"
      },
      "execution_count": null,
      "outputs": []
    },
    {
      "cell_type": "markdown",
      "source": [
        "**3. Find mean of App Ratings**"
      ],
      "metadata": {
        "id": "BCr4D2f8m5qq"
      }
    },
    {
      "cell_type": "code",
      "source": [
        "from numpy.ma.extras import average\n",
        "# Fidn mean of app ratings\n",
        "\n",
        "ratings = dataset['Rating']\n",
        "average_rating = dataset.mean()\n",
        "print(\"Average of App Rating:\", average_rating)"
      ],
      "metadata": {
        "id": "2K_F6qi4mpFV"
      },
      "execution_count": null,
      "outputs": []
    },
    {
      "cell_type": "markdown",
      "source": [
        "**4. Find the number of Count of Neutral Sentiment**\n",
        "\n",
        "\n"
      ],
      "metadata": {
        "id": "EvzYUWQpqGLR"
      }
    },
    {
      "cell_type": "code",
      "source": [
        "# Count of Neutral Sentiment\n",
        "\n",
        "Neutral_apps_count = user_review[user_review['Sentiment'] == 'Neutral']['Sentiment'].count()\n",
        "Neutral_apps_count\n"
      ],
      "metadata": {
        "id": "97lOB-NHn64q"
      },
      "execution_count": null,
      "outputs": []
    },
    {
      "cell_type": "markdown",
      "source": [
        "**5. Find the number of Count of Positive Sentiment**"
      ],
      "metadata": {
        "id": "-aGxxZunrU05"
      }
    },
    {
      "cell_type": "code",
      "source": [
        "Positive_apps_count = user_review[user_review['Sentiment'] == 'Positive']['Sentiment'].count()\n",
        "Positive_apps_count\n"
      ],
      "metadata": {
        "id": "sx69daG1raoz"
      },
      "execution_count": null,
      "outputs": []
    },
    {
      "cell_type": "markdown",
      "source": [
        "**6. What are the top 10 Applications based on rating**"
      ],
      "metadata": {
        "id": "pShB2Y-VsMy4"
      }
    },
    {
      "cell_type": "code",
      "source": [
        "# The top 10 applications based on ratings\n",
        "\n",
        "best_reviewed_apps = play_store.sort_values(by='Rating', ascending=False)\n",
        "\n",
        "print(\"Top 10 highest rated applications are:\")\n",
        "for app_name in best_reviewed_apps['App'].head(10):\n",
        "    print(app_name)\n"
      ],
      "metadata": {
        "id": "xA_3k9lgru71"
      },
      "execution_count": null,
      "outputs": []
    },
    {
      "cell_type": "markdown",
      "source": [
        "**7. What are the 5 most expensive applications**"
      ],
      "metadata": {
        "id": "4VECh0ldsv7Y"
      }
    },
    {
      "cell_type": "code",
      "source": [
        "# most expensive applications\n",
        "df4 = play_store.sort_values(by='Price', ascending=False)\n",
        "print(\"The top 5 most expensive apps are:\")\n",
        "for app_name in df4['App'].head(5):\n",
        "    print(app_name)\n"
      ],
      "metadata": {
        "id": "pn3qjeZ9sycT"
      },
      "execution_count": null,
      "outputs": []
    },
    {
      "cell_type": "markdown",
      "source": [
        "**8. What are the top 5 most installed Free Applications**"
      ],
      "metadata": {
        "id": "2o1UZ9aeuS6o"
      }
    },
    {
      "cell_type": "code",
      "source": [
        "# top 5 most installed Free Applications\n",
        "\n",
        "df2 = play_store[play_store['Type'] == 'Free']\n",
        "\n",
        "print(\"Top 5 most installed free applications are:\")\n",
        "for app_name in df2.sort_values(by='Installs', ascending=False).head(5)['App']:\n",
        "    print(app_name)\n"
      ],
      "metadata": {
        "id": "CsAC8UcYuXer"
      },
      "execution_count": null,
      "outputs": []
    },
    {
      "cell_type": "markdown",
      "source": [
        "**9. What are the top 5 most downloaded applications that are paid**"
      ],
      "metadata": {
        "id": "YgBc_NhCvBE3"
      }
    },
    {
      "cell_type": "code",
      "source": [
        "# the top 5 most downloaded applications that are paid\n",
        "\n",
        "df1 = play_store[play_store['Type'] == 'Paid']\n",
        "\n",
        "print(\"Top 5 most installed paid applications are:\")\n",
        "for app_name in df1.sort_values(by='Installs', ascending=False).head(5)['App']:\n",
        "    print(app_name)\n"
      ],
      "metadata": {
        "id": "G20EYggivLUU"
      },
      "execution_count": null,
      "outputs": []
    },
    {
      "cell_type": "markdown",
      "source": [
        "## ***4. Data Vizualization, Storytelling & Experimenting with charts : Understand the relationships between variables***"
      ],
      "metadata": {
        "id": "GF8Ens_Soomf"
      }
    },
    {
      "cell_type": "markdown",
      "source": [
        "#### Chart - 1 -  Pie Chart"
      ],
      "metadata": {
        "id": "0wOQAZs5pc--"
      }
    },
    {
      "cell_type": "code",
      "source": [
        "# Pie Chart - Showing distribution of various application category\n",
        "category= play_store.groupby(['Category'])['Category'].count()\n",
        "category\n",
        "\n",
        "# Plot pie chart with various categories\n",
        "\n",
        "labels =category.index[1:]\n",
        "print(labels)\n",
        "values=category.tolist()[1:]\n",
        "print(values)\n",
        "plt.pie(values, labels =labels, radius=4,autopct='%1.1f%%')\n",
        "plt.xticks(rotation=90)\n",
        "plt.gcf().subplots_adjust(bottom=0.4)\n",
        "plt.show"
      ],
      "metadata": {
        "id": "7v_ESjsspbW7"
      },
      "execution_count": null,
      "outputs": []
    },
    {
      "cell_type": "markdown",
      "source": [
        "##### 1. Why did you pick the specific chart?"
      ],
      "metadata": {
        "id": "K5QZ13OEpz2H"
      }
    },
    {
      "cell_type": "markdown",
      "source": [
        "  I have choose Pie Chart for Showing distribution of various application category because pie chart is commonly used to represent parts of a whole or to show the distribution of a categorical variable. It is effective in displaying relative proportions or percentages."
      ],
      "metadata": {
        "id": "XESiWehPqBRc"
      }
    },
    {
      "cell_type": "markdown",
      "source": [
        "##### 2. What is/are the insight(s) found from the chart?"
      ],
      "metadata": {
        "id": "lQ7QKXXCp7Bj"
      }
    },
    {
      "cell_type": "markdown",
      "source": [
        "Chart show the insights of distribution of various application category. This data show the very clear distribution of application category and uknown person can understand the whole consept of data and it helps a lot for app development."
      ],
      "metadata": {
        "id": "C_j1G7yiqdRP"
      }
    },
    {
      "cell_type": "markdown",
      "source": [
        "##### 3. Will the gained insights help creating a positive business impact? \n",
        "Are there any insights that lead to negative growth? Justify with specific reason."
      ],
      "metadata": {
        "id": "448CDAPjqfQr"
      }
    },
    {
      "cell_type": "markdown",
      "source": [
        "Yes Obviously, The insights from the pie chart can highlight emerging or growing categories. Businesses can leverage this information to identify new market trends and capitalize on untapped opportunities. Investing in these growing categories can result in positive business growth and expansion.\n",
        "\n",
        "By analyzing the distribution of application categories, businesses can assess the diversity and balance of their product portfolio. They can identify any gaps or over-reliance on specific categories and make informed decisions to optimize their offerings. A well-balanced and diverse product portfolio can mitigate risks and ensure long-term sustainability."
      ],
      "metadata": {
        "id": "3cspy4FjqxJW"
      }
    },
    {
      "cell_type": "markdown",
      "source": [
        "#### Chart - 2 - Bar Graph"
      ],
      "metadata": {
        "id": "KSlN3yHqYklG"
      }
    },
    {
      "cell_type": "code",
      "source": [
        "# Bar Graph -Application Type Distribution\n",
        "play_store = play_store[play_store['Type'].isin(['Free', 'Paid'])]\n",
        "\n",
        "# Convert 'Type' column to a categorical variable\n",
        "play_store['Type'] = play_store['Type'].astype('category')\n",
        "\n",
        "# Plot the countplot\n",
        "plt.figure(figsize=(10,5))\n",
        "sns.countplot(data=play_store, x='Type')\n",
        "plt.title('Type Distribution')\n",
        "plt.ylabel('Number of Apps')\n",
        "plt.show()"
      ],
      "metadata": {
        "id": "R4YgtaqtYklH"
      },
      "execution_count": null,
      "outputs": []
    },
    {
      "cell_type": "markdown",
      "source": [
        "##### 1. Why did you pick the specific chart?"
      ],
      "metadata": {
        "id": "t6dVpIINYklI"
      }
    },
    {
      "cell_type": "markdown",
      "source": [
        "Because a bar chart allows for a clear visual comparison between the two application types (Free and Paid). The length of each bar can represent the proportion or count of applications in each category, making it easy to compare the distribution.  Bar charts are well-suited for displaying categorical data, where each bar represents a distinct category.\n",
        "\n"
      ],
      "metadata": {
        "id": "5aaW0BYyYklI"
      }
    },
    {
      "cell_type": "markdown",
      "source": [
        "##### 2. What is/are the insight(s) found from the chart?"
      ],
      "metadata": {
        "id": "ijmpgYnKYklI"
      }
    },
    {
      "cell_type": "markdown",
      "source": [
        "The bar chart allows for a clear comparison of the proportions or counts of Free and Paid applications. The lengths of the bars provide a visual representation of the relative distribution between the two categories. The chart can reveal the potential revenue sources for app developers or businesses. The proportion of Paid applications compared to Free applications can indicate the potential market for generating revenue through app purchases or subscriptions."
      ],
      "metadata": {
        "id": "PSx9atu2YklI"
      }
    },
    {
      "cell_type": "markdown",
      "source": [
        "##### 3. Will the gained insights help creating a positive business impact? \n",
        "Are there any insights that lead to negative growth? Justify with specific reason."
      ],
      "metadata": {
        "id": "-JiQyfWJYklI"
      }
    },
    {
      "cell_type": "markdown",
      "source": [
        "Yes Why not!, The insights from the bar chart can guide businesses in optimizing their revenue strategies. By understanding the distribution between Free and Paid applications, businesses can align their pricing models, identify opportunities for upselling or offering premium features, and potentially increase their revenue streams. The chart can help businesses make informed decisions about monetizing their applications. They can assess the market demand for paid applications and determine whether it is viable to develop and launch paid apps."
      ],
      "metadata": {
        "id": "BcBbebzrYklV"
      }
    },
    {
      "cell_type": "markdown",
      "source": [
        "#### Chart - 3 - Pair plot"
      ],
      "metadata": {
        "id": "EM7whBJCYoAo"
      }
    },
    {
      "cell_type": "code",
      "source": [
        "# Pair plot - 3 visualization code\n",
        "\n",
        "Rating = play_store['Rating']\n",
        "Size = play_store['Size']\n",
        "Installs = play_store['Installs'].str.replace(',', '').str.replace('+', '').astype(float).apply(np.log)\n",
        "Reviews = play_store['Reviews'].astype(float).apply(np.log10)\n",
        "Type = play_store['Type']\n",
        "Price = play_store['Price']\n",
        "\n",
        "p = sns.pairplot(pd.DataFrame(list(zip(Rating, Size, Installs, Reviews, Price, Type)),\n",
        "                              columns=['Rating', 'Size', 'Installs', 'Reviews', 'Price', 'Type']), hue='Type')\n",
        "p.fig.suptitle(\"Pairwise Plot - Rating, Size, Installs, Reviews, Price\", x=0.5, y=1.0, fontsize=16)\n",
        "\n"
      ],
      "metadata": {
        "id": "t6GMdE67YoAp"
      },
      "execution_count": null,
      "outputs": []
    },
    {
      "cell_type": "markdown",
      "source": [
        "##### 1. Why did you pick the specific chart?"
      ],
      "metadata": {
        "id": "fge-S5ZAYoAp"
      }
    },
    {
      "cell_type": "markdown",
      "source": [
        "I picked the pair plot because it allows us to visualize the relationships between multiple variables in a single plot. With the pair plot, we can understand the best set of features to explain the relationship between two variables and identify any patterns or clusters.\n",
        "\n",
        "The pair plot provides a matrix of scatter plots where each variable is plotted against every other variable. It helps us analyze the pairwise relationships and observe any correlations, trends, or clusters within the data."
      ],
      "metadata": {
        "id": "5dBItgRVYoAp"
      }
    },
    {
      "cell_type": "markdown",
      "source": [
        "##### 2. What is/are the insight(s) found from the chart?"
      ],
      "metadata": {
        "id": "85gYPyotYoAp"
      }
    },
    {
      "cell_type": "markdown",
      "source": [
        "The pair plot helps us identify any distinct clusters or patterns in the data. If we notice groups of data points that are tightly clustered together in some scatter plots, it suggests that these variables have a strong relationship and may contribute to forming separate clusters. This can be useful for identifying different categories or segments within the data. The pair plot provides a comprehensive view of the relationships between variables and allows us to identify correlations, clusters, outliers, and important features. These insights can help us understand the underlying patterns in the data and make informed decisions for further analysis or modeling."
      ],
      "metadata": {
        "id": "4jstXR6OYoAp"
      }
    },
    {
      "cell_type": "markdown",
      "source": [
        "##### 3. Will the gained insights help creating a positive business impact? \n",
        "Are there any insights that lead to negative growth? Justify with specific reason."
      ],
      "metadata": {
        "id": "RoGjAbkUYoAp"
      }
    },
    {
      "cell_type": "markdown",
      "source": [
        "The gained insights from the pair plot can potentially help create a positive business impact by providing valuable information about the relationships between variables and the formation of clusters. Understanding the relationships between variables and identifying important features can aid in making informed business decisions. For example, if the pair plot reveals a strong positive correlation between the 'Rating' and 'Installs' variables, it suggests that improving the app's rating can potentially lead to increased installations, guiding the business to focus on improving user satisfaction and app quality."
      ],
      "metadata": {
        "id": "zfJ8IqMcYoAp"
      }
    },
    {
      "cell_type": "markdown",
      "source": [
        "#### Chart - 4 - Heatmap"
      ],
      "metadata": {
        "id": "4Of9eVA-YrdM"
      }
    },
    {
      "cell_type": "code",
      "source": [
        "# Heatmap -  Plotting a corelation graph to find corelation between ating, price, reviews and installs\n",
        "corr_df=play_store.corr()\n",
        "import seaborn as sns\n",
        "import matplotlib.pyplot as plt\n",
        "\n",
        "cols = ['Rating', 'Price', 'Reviews', 'Installs']\n",
        "correlation_matrix = play_store.corr()\n",
        "\n",
        "plt.figure(figsize=(10, 8))\n",
        "sns.heatmap(correlation_matrix, annot=True, cmap='coolwarm', linewidths=0.5)\n",
        "plt.title('Correlation Heatmap')\n",
        "plt.show()"
      ],
      "metadata": {
        "id": "irlUoxc8YrdO"
      },
      "execution_count": null,
      "outputs": []
    },
    {
      "cell_type": "markdown",
      "source": [
        "##### 1. Why did you pick the specific chart?"
      ],
      "metadata": {
        "id": "iky9q4vBYrdO"
      }
    },
    {
      "cell_type": "markdown",
      "source": [
        "The heatmap chart was chosen to visualize the correlation between rating, price,reviews and installs because it provides an intuitive and concise representation of the correlation matrix.\n"
      ],
      "metadata": {
        "id": "aJRCwT6DYrdO"
      }
    },
    {
      "cell_type": "markdown",
      "source": [
        "##### 2. What is/are the insight(s) found from the chart?"
      ],
      "metadata": {
        "id": "F6T5p64dYrdO"
      }
    },
    {
      "cell_type": "markdown",
      "source": [
        "There is a moderately positive correlation between rating and reviews. This suggests that apps with higher ratings tend to have more reviews.There is a weak positive correlation between rating and installs. It implies that higher-rated apps generally have a higher number of installs, although the correlation is not very strong.There is a stronger positive correlation between reviews and installs. This indicates that apps with more reviews tend to have a higher number of installs.There is no significant correlation between price and rating, reviews, or installs. It suggests that the price of an app does not have a direct impact on its rating, reviews, or number of installs.\n",
        "\n"
      ],
      "metadata": {
        "id": "Xx8WAJvtYrdO"
      }
    },
    {
      "cell_type": "markdown",
      "source": [
        "##### 3. Will the gained insights help creating a positive business impact? \n",
        "Are there any insights that lead to negative growth? Justify with specific reason."
      ],
      "metadata": {
        "id": "y-Ehk30pYrdP"
      }
    },
    {
      "cell_type": "markdown",
      "source": [
        "The heatmap does not reveal any negative correlations or insights that would directly lead to negative growth, it emphasizes the importance of focusing on factors other than just price, such as quality, features, user experience, and positive reviews, to create a positive business impact."
      ],
      "metadata": {
        "id": "jLNxxz7MYrdP"
      }
    },
    {
      "cell_type": "markdown",
      "source": [
        "#### Chart - 5 - Pie Circle Chart"
      ],
      "metadata": {
        "id": "bamQiAODYuh1"
      }
    },
    {
      "cell_type": "code",
      "source": [
        "# Pie Circle Chart - Percentage of apps belonging to each category in the playstore\n",
        "plt.figure(figsize=(12,12))\n",
        "plt.pie(play_store.Category.value_counts(), labels=play_store.Category.value_counts().index, autopct='%1.2f%%')\n",
        "my_circle = plt.Circle((0,0), 0.3, color='white')  # Decrease the radius to 0.3 (adjust as needed)\n",
        "p = plt.gcf()\n",
        "p.gca().add_artist(my_circle)\n",
        "plt.title('% of apps share in each Category', fontsize=10)\n",
        "plt.show()\n"
      ],
      "metadata": {
        "id": "TIJwrbroYuh3"
      },
      "execution_count": null,
      "outputs": []
    },
    {
      "cell_type": "markdown",
      "source": [
        "##### 1. Why did you pick the specific chart?"
      ],
      "metadata": {
        "id": "QHF8YVU7Yuh3"
      }
    },
    {
      "cell_type": "markdown",
      "source": [
        "The specific chart chosen, which is a pie chart with a circle in the center, was selected to visualize the percentage of apps belonging to each category in the play store. The pie chart is effective in displaying the relative proportions of different categories, and the circle in the center helps to create a visually appealing and balanced representation of the data. "
      ],
      "metadata": {
        "id": "dcxuIMRPYuh3"
      }
    },
    {
      "cell_type": "markdown",
      "source": [
        "##### 2. What is/are the insight(s) found from the chart?"
      ],
      "metadata": {
        "id": "GwzvFGzlYuh3"
      }
    },
    {
      "cell_type": "markdown",
      "source": [
        "The insight from the pie circle chart for the percentage of apps belonging to each category in the play store is the distribution of apps across different categories. The chart provides a visual representation of the proportion of apps in each category, allowing us to identify the categories with the highest and lowest percentages. By examining the chart, we can determine which categories have a larger presence in the play store and which categories are relatively less represented. This information can be useful for understanding the popularity and demand for different app categories and can potentially guide business decisions related to app development, marketing, and targeting specific categories."
      ],
      "metadata": {
        "id": "uyqkiB8YYuh3"
      }
    },
    {
      "cell_type": "markdown",
      "source": [
        "##### 3. Will the gained insights help creating a positive business impact? \n",
        "Are there any insights that lead to negative growth? Justify with specific reason."
      ],
      "metadata": {
        "id": "qYpmQ266Yuh3"
      }
    },
    {
      "cell_type": "markdown",
      "source": [
        "The gained insights from the pie circle chart showing the percentage of apps belonging to each category in the play store can potentially help create a positive business impact. By understanding the distribution of apps across categories, businesses can make informed decisions regarding app development, marketing strategies, and targeting specific categories that have a higher demand and popularity. They can focus their efforts on categories that have a larger share of apps and potentially a larger user base.\n",
        "\n"
      ],
      "metadata": {
        "id": "_WtzZ_hCYuh4"
      }
    },
    {
      "cell_type": "markdown",
      "source": [
        "#### Chart - 6 - Scatterplot"
      ],
      "metadata": {
        "id": "OH-pJp9IphqM"
      }
    },
    {
      "cell_type": "code",
      "source": [
        "# scatterplot - 6 scatterplot of sentiment polarity and sentiment subjectivity\n",
        "plt.figure(figsize=(6,6))\n",
        "sns.scatterplot(x=user_review['Sentiment_Subjectivity'], y=user_review['Sentiment_Polarity'],\n",
        "                hue=user_review['Sentiment'], edgecolor='white', palette=\"inferno\")\n",
        "plt.title(\"Google Play Store Reviews Sentiment Analysis\", fontsize=20)\n",
        "plt.show()\n"
      ],
      "metadata": {
        "id": "kuRf4wtuphqN"
      },
      "execution_count": null,
      "outputs": []
    },
    {
      "cell_type": "markdown",
      "source": [
        "##### 1. Why did you pick the specific chart?"
      ],
      "metadata": {
        "id": "bbFf2-_FphqN"
      }
    },
    {
      "cell_type": "markdown",
      "source": [
        "I chose the scatterplot chart to visualize the relationship between sentiment polarity and sentiment subjectivity because it is effective in showing the distribution and correlation between two continuous variables. Scatterplots provide a clear way to observe patterns, clusters, or trends in the data, and they are particularly useful when comparing two numerical variables.\n",
        "\n"
      ],
      "metadata": {
        "id": "loh7H2nzphqN"
      }
    },
    {
      "cell_type": "markdown",
      "source": [
        "##### 2. What is/are the insight(s) found from the chart?"
      ],
      "metadata": {
        "id": "_ouA3fa0phqN"
      }
    },
    {
      "cell_type": "markdown",
      "source": [
        "The scatterplot helps us visualize the distribution of sentiment polarity and subjectivity. We can see the concentration of data points across the range of sentiment polarity and subjectivity values.By examining the scatterplot, we can identify any potential patterns or trends between sentiment polarity and subjectivity. For example, we can observe if there is a tendency for highly subjective reviews to have extreme polarity (either very positive or very negative)."
      ],
      "metadata": {
        "id": "VECbqPI7phqN"
      }
    },
    {
      "cell_type": "markdown",
      "source": [
        "##### 3. Will the gained insights help creating a positive business impact? \n",
        "Are there any insights that lead to negative growth? Justify with specific reason."
      ],
      "metadata": {
        "id": "Seke61FWphqN"
      }
    },
    {
      "cell_type": "markdown",
      "source": [
        "The gained insights from the scatterplot of sentiment polarity and sentiment subjectivity can potentially help create a positive business impact.By analyzing the sentiment polarity and subjectivity, businesses can gain valuable insights into customer sentiment towards their products or services. This understanding can help identify areas of strength and weakness, allowing businesses to make informed decisions for improving their offerings."
      ],
      "metadata": {
        "id": "DW4_bGpfphqN"
      }
    },
    {
      "cell_type": "markdown",
      "source": [
        "#### Chart - 7 - Line Chart"
      ],
      "metadata": {
        "id": "PIIx-8_IphqN"
      }
    },
    {
      "cell_type": "code",
      "source": [
        "# Line Chart - 7 Distribution of App update over the Year\n",
        "play_store['Last Updated'] = pd.to_datetime(play_store['Last Updated'])\n",
        "\n",
        "play_store['Update Year'] = play_store['Last Updated'].dt.year\n",
        "\n",
        "update_counts = play_store['Update Year'].value_counts().sort_index()\n",
        "\n",
        "plt.figure(figsize=(10, 6))\n",
        "plt.plot(update_counts.index, update_counts, marker='o')\n",
        "plt.xlabel('Year')\n",
        "plt.ylabel('Number of Apps')\n",
        "plt.title('Distribution of App Updates Over the Years')\n",
        "plt.show()\n",
        "\n"
      ],
      "metadata": {
        "id": "lqAIGUfyphqO"
      },
      "execution_count": null,
      "outputs": []
    },
    {
      "cell_type": "markdown",
      "source": [
        "##### 1. Why did you pick the specific chart?"
      ],
      "metadata": {
        "id": "t27r6nlMphqO"
      }
    },
    {
      "cell_type": "markdown",
      "source": [
        "I picked the line chart for the distribution of app updates over the years because it is an effective way to visualize the trend and changes in the number of app updates over time. The line chart allows us to observe the overall pattern, identify any increasing or decreasing trends, and compare the update distribution across different years. It provides a clear and intuitive representation of how app updates have been distributed over the years, making it suitable for analyzing the distribution of app updates over time."
      ],
      "metadata": {
        "id": "iv6ro40sphqO"
      }
    },
    {
      "cell_type": "markdown",
      "source": [
        "##### 2. What is/are the insight(s) found from the chart?"
      ],
      "metadata": {
        "id": "r2jJGEOYphqO"
      }
    },
    {
      "cell_type": "markdown",
      "source": [
        "The chart shows the general trend of app updates over the years. It helps identify whether the number of updates has been increasing, decreasing, or staying relatively stable.\n",
        "\n",
        "The chart enables the observation of year-to-year variations in app updates. It helps identify specific years with significant spikes or drops in the number of updates.\n",
        "\n",
        "By analyzing the slope and direction of the line, we can determine the long-term growth or decline in app updates. A positive slope indicates increasing updates over the years, while a negative slope indicates a decreasing trend."
      ],
      "metadata": {
        "id": "Po6ZPi4hphqO"
      }
    },
    {
      "cell_type": "markdown",
      "source": [
        "##### 3. Will the gained insights help creating a positive business impact? \n",
        "Are there any insights that lead to negative growth? Justify with specific reason."
      ],
      "metadata": {
        "id": "b0JNsNcRphqO"
      }
    },
    {
      "cell_type": "markdown",
      "source": [
        "The chart allows businesses to identify years or periods with increasing app updates. This insight can help companies capitalize on the growing demand for updates and leverage it as an opportunity for business growth.\n",
        "\n",
        "the gained insights from the line chart can help businesses make data-driven decisions, optimize their app development strategies, and enhance customer satisfaction, leading to a positive business impact."
      ],
      "metadata": {
        "id": "xvSq8iUTphqO"
      }
    },
    {
      "cell_type": "markdown",
      "source": [
        "## **5. Solution to Business Objective**"
      ],
      "metadata": {
        "id": "JcMwzZxoAimU"
      }
    },
    {
      "cell_type": "markdown",
      "source": [
        "#### What do you suggest the client to achieve Business Objective ? \n",
        "Explain Briefly."
      ],
      "metadata": {
        "id": "8G2x9gOozGDZ"
      }
    },
    {
      "cell_type": "markdown",
      "source": [
        "**Based on the analysis of the provided visualizations and insights, there are several suggestions for the client to achieve their business objectives:**\n",
        "\n",
        "* **Focus on Popular App Categories**: The pie chart showcasing the distribution of apps across various categories provides insights into the most popular categories in the Play Store. The client can consider developing and promoting apps in these categories to target a larger user base and increase potential downloads.\n",
        "\n",
        "* **Emphasize Free Apps** : The bar chart comparing the distribution of free and paid apps indicates that free apps have a significantly higher presence in the Play Store. To maximize visibility and reach a broader audience, the client should consider offering free apps, while incorporating monetization strategies such as in-app advertisements or optional in-app purchases to generate revenue.\n",
        "\n",
        "* **Leverage User Reviews and Sentiment Analysis** : The scatterplot representing sentiment polarity and subjectivity of user reviews provides insights into user sentiments towards the client's apps. The client can analyze user feedback, identify areas for improvement, and address any negative sentiments. Incorporating user feedback into the app development process can lead to enhanced user satisfaction and positive reviews, ultimately driving higher app ratings and increasing downloads.\n",
        "\n",
        "* **Optimize App Updates**: The line chart displaying the distribution of app updates over the years highlights the importance of consistent and timely updates. The client should focus on providing regular updates to their apps, incorporating new features, addressing bugs, and improving performance. This approach demonstrates active development and responsiveness to user needs, leading to improved customer engagement, satisfaction, and retention.\n",
        "\n",
        "* **Monitor Market Trends and Competition**: The line chart comparing the update distribution between paid and free apps can help the client understand market trends and benchmark their performance against competitors. It is crucial to stay updated with industry developments, monitor competitor strategies, and continuously innovate to maintain a competitive edge in the Play Store.\n",
        "\n",
        "* **Explore Strategic Partnerships and Collaborations**: Identify potential partnerships with complementary apps or brands that target a similar user base. Collaborating with other app developers or brands can lead to cross-promotion opportunities, expanding the reach of the client's apps and attracting new users.\n",
        "\n",
        "* **Enhance App Store Optimization (ASO)**: Pay attention to optimizing the app's metadata, including app title, description, keywords, and screenshots. Conduct keyword research to identify relevant and high-volume search terms within the Play Store. By improving the app's visibility and discoverability through effective ASO strategies, the client can increase organic traffic and attract more potential users."
      ],
      "metadata": {
        "id": "pASKb0qOza21"
      }
    },
    {
      "cell_type": "markdown",
      "source": [
        "# **Conclusion**"
      ],
      "metadata": {
        "id": "gCX9965dhzqZ"
      }
    },
    {
      "cell_type": "markdown",
      "source": [
        "**By analyzing the data closely, we have inferred a few of the observations.**\n",
        "\n",
        "• Google PlayStore has 2 types of applications, mainly Free and Paid.\n",
        "\n",
        "• There are various categories amongst which there are multiple applications- Three major apps are Family, Tools and Games.\n",
        "\n",
        "• Applications receive both Ratings and Reviews and can be respectively graded too.\n",
        "\n",
        "• Applications are installed by various users and mostly installed applications can be found, along with the information of their category, rating, type etc.\n",
        "\n",
        "• Business, Game, Family and Tools have the highest number of applications.\n",
        "\n",
        "• Free applications make 98% of the total of Applications, with a total count of more than 8000.\n",
        "\n",
        "• Communication, Games and Tools are the most installed Application category.\n",
        "\n",
        "• Most of the apps with higher rating range of 4.0 4.7 are having high amount of reviews and installs. In terms of price, it doesn't reflect a direct relationship with rating, as we could see a fluctuation in term of pricing even at the range of high\n",
        "\n",
        "• Install Counts and Reviews are the most correlated and influence a lot of the downloads\n",
        "\n",
        "Thus a lot of factors play an important role in the user usage and popularity of any application. It can be because of the price of the application, based of the rating and reviews, also because of the number of installs, which in turn also affects the decision making of any app."
      ],
      "metadata": {
        "id": "Fjb1IsQkh3yE"
      }
    },
    {
      "cell_type": "markdown",
      "source": [
        "### ***Hurrah! You have successfully completed your EDA Capstone Project !!!***"
      ],
      "metadata": {
        "id": "gIfDvo9L0UH2"
      }
    }
  ]
}